{
  "nbformat": 4,
  "nbformat_minor": 0,
  "metadata": {
    "colab": {
      "provenance": [],
      "authorship_tag": "ABX9TyO0QjqnawQfRmoamc2ZcwuD",
      "include_colab_link": true
    },
    "kernelspec": {
      "name": "python3",
      "display_name": "Python 3"
    },
    "language_info": {
      "name": "python"
    }
  },
  "cells": [
    {
      "cell_type": "markdown",
      "metadata": {
        "id": "view-in-github",
        "colab_type": "text"
      },
      "source": [
        "<a href=\"https://colab.research.google.com/github/412540402/Introdution-to-computers-/blob/main/0508.ipynb\" target=\"_parent\"><img src=\"https://colab.research.google.com/assets/colab-badge.svg\" alt=\"Open In Colab\"/></a>"
      ]
    },
    {
      "cell_type": "code",
      "source": [
        "t = float (input())\n",
        "if(N >= 0):\n",
        "  if (t >= 37.5):\n",
        "    print(' 體溫過高! ')\n",
        "  elif (t >= 37):\n",
        "    print(' 體溫略高! ')\n",
        "  elif (t >=36.9 ):\n",
        "    print(' 體溫正常! ')\n",
        "  elif (t <34):\n",
        "    print(' 體溫異常，請重新量測! ')\n",
        "\n"
      ],
      "metadata": {
        "colab": {
          "base_uri": "https://localhost:8080/"
        },
        "id": "DbzrxsgEaGlr",
        "outputId": "b35efee3-afdd-4949-da2b-2f2961ea0a0c"
      },
      "execution_count": 24,
      "outputs": [
        {
          "output_type": "stream",
          "name": "stdout",
          "text": [
            "33\n",
            " 體溫異常，請重新量測! \n"
          ]
        }
      ]
    },
    {
      "cell_type": "code",
      "source": [
        "N = int(input(\"請輸入成績\"))\n",
        "if(N >= 0):\n",
        "   if(N > 90):\n",
        "     print('A')\n",
        "   elif (N >=80):\n",
        "     print('B')\n",
        "   elif (N  >= 70):\n",
        "     print('C')\n",
        "   elif (N >= 60):\n",
        "     print('D')\n",
        "   elif (N <60):\n",
        "     print('E')\n",
        "\n",
        "\n",
        "\n",
        "\n"
      ],
      "metadata": {
        "colab": {
          "base_uri": "https://localhost:8080/"
        },
        "id": "kPiBb9BCaDSN",
        "outputId": "b4eba38e-f4bb-4cf3-c55c-c60decfcabeb"
      },
      "execution_count": 20,
      "outputs": [
        {
          "output_type": "stream",
          "name": "stdout",
          "text": [
            "請輸入成績90\n",
            "B\n"
          ]
        }
      ]
    },
    {
      "cell_type": "code",
      "execution_count": 3,
      "metadata": {
        "colab": {
          "base_uri": "https://localhost:8080/"
        },
        "id": "peqLFljaWWQK",
        "outputId": "7a6859a6-d3a4-48af-acb6-00fc128043d8"
      },
      "outputs": [
        {
          "output_type": "stream",
          "name": "stdout",
          "text": [
            "4\n",
            "4 月是夏天!\n"
          ]
        }
      ],
      "source": [
        "month=int(input())\n",
        "if(month >= 1 and month <= 12):\n",
        "  if(month==1 or month==2 or month==3):\n",
        "    print(\"{} 月是春天!\".format(month))\n",
        "  elif(month==4 or month==5 or month==6):\n",
        "    print(\"{} 月是夏天!\".format(month))\n",
        "  elif(month==7 or month==8 or month==9):\n",
        "    print(\"{} 月是秋天!\".format(month))\n",
        "  else:\n",
        "    print(\"{} 月是冬天!\".format(month))\n",
        "else:\n",
        "    print(\"月份不在範圍內!\")\n"
      ]
    },
    {
      "cell_type": "code",
      "source": [],
      "metadata": {
        "id": "i_JCK_fMaCAQ"
      },
      "execution_count": null,
      "outputs": []
    }
  ]
}