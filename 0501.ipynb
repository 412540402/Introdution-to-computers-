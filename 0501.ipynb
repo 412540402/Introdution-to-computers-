{
  "nbformat": 4,
  "nbformat_minor": 0,
  "metadata": {
    "colab": {
      "provenance": [],
      "authorship_tag": "ABX9TyMe9ASRtPvcujD7vcuyCbx/",
      "include_colab_link": true
    },
    "kernelspec": {
      "name": "python3",
      "display_name": "Python 3"
    },
    "language_info": {
      "name": "python"
    }
  },
  "cells": [
    {
      "cell_type": "markdown",
      "metadata": {
        "id": "view-in-github",
        "colab_type": "text"
      },
      "source": [
        "<a href=\"https://colab.research.google.com/github/412540402/Introdution-to-computers-/blob/main/0501.ipynb\" target=\"_parent\"><img src=\"https://colab.research.google.com/assets/colab-badge.svg\" alt=\"Open In Colab\"/></a>"
      ]
    },
    {
      "cell_type": "code",
      "execution_count": 1,
      "metadata": {
        "id": "jzw__IYntFfl",
        "colab": {
          "base_uri": "https://localhost:8080/"
        },
        "outputId": "196d2e67-31b7-4296-d691-e2489170bff0"
      },
      "outputs": [
        {
          "output_type": "stream",
          "name": "stdout",
          "text": [
            "0501\n"
          ]
        }
      ],
      "source": [
        "print(\"0501\")"
      ]
    },
    {
      "cell_type": "code",
      "source": [
        "1 1"
      ],
      "metadata": {
        "id": "YdXrzmnQw1yR"
      },
      "execution_count": null,
      "outputs": []
    },
    {
      "cell_type": "code",
      "source": [
        "1    1"
      ],
      "metadata": {
        "id": "k3UYR1HSw4fD"
      },
      "execution_count": null,
      "outputs": []
    },
    {
      "cell_type": "code",
      "source": [
        "score=int(input(\"請輸入分數\"))\n",
        "if(score>=60):\n",
        "  print(\"及格\")"
      ],
      "metadata": {
        "colab": {
          "base_uri": "https://localhost:8080/"
        },
        "id": "H9BnryPIuC2u",
        "outputId": "a49cd72c-9ae4-4899-f073-bbb956b3cf19"
      },
      "execution_count": 4,
      "outputs": [
        {
          "output_type": "stream",
          "name": "stdout",
          "text": [
            "請輸入分數70\n",
            "及格\n"
          ]
        }
      ]
    },
    {
      "cell_type": "code",
      "source": [
        "數學=60\n",
        "英文=70\n",
        "if 數學 > 英文:\n",
        "   print(\"數學比較高\")\n",
        "else:\n",
        "  print(\"英文比較高\")"
      ],
      "metadata": {
        "colab": {
          "base_uri": "https://localhost:8080/"
        },
        "id": "Y8FAtS5nvXlJ",
        "outputId": "141567ed-377e-46a8-87dd-64b2257f9440"
      },
      "execution_count": 11,
      "outputs": [
        {
          "output_type": "stream",
          "name": "stdout",
          "text": [
            "英文比較高\n"
          ]
        }
      ]
    }
  ]
}